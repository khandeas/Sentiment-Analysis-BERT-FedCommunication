{
 "cells": [
  {
   "cell_type": "markdown",
   "metadata": {},
   "source": [
    "## Import Packages"
   ]
  },
  {
   "cell_type": "code",
   "execution_count": 1,
   "metadata": {},
   "outputs": [],
   "source": [
    "import re\n",
    "import json\n",
    "import pandas as pd\n",
    "import datetime\n",
    "import numpy as np\n",
    "import os\n",
    "from bs4 import BeautifulSoup\n",
    "from urllib.request import urlopen\n",
    "from google.cloud.storage import Client"
   ]
  },
  {
   "cell_type": "markdown",
   "metadata": {},
   "source": [
    "\n",
    "## Step 1: Scrap the events list from Fed WebSite"
   ]
  },
  {
   "cell_type": "code",
   "execution_count": 2,
   "metadata": {},
   "outputs": [],
   "source": [
    "# Global Variables\n",
    "\n",
    "FED_BASE_URL = 'https://www.federalreserve.gov'\n",
    "FED_EVENTS_SOURCE = 'https://www.federalreserve.gov/json/ne-press.json'\n",
    "RENAME_COLUMNS = {'d':'date','l':'link','pt':'categ','pt2':'othercateg','stub':'stub','t':'title','updateDate':'updateddate'}\n",
    "\n",
    "\n",
    "# other variables. fed by apache airflow environment/trigger variables.\n",
    "target_event = datetime.datetime(2020,1,3,14) # fomc minutes release for 12/2019 meeting"
   ]
  },
  {
   "cell_type": "code",
   "execution_count": 3,
   "metadata": {},
   "outputs": [],
   "source": [
    "# Read the Events Source\n",
    "\n",
    "with urlopen(FED_EVENTS_SOURCE) as url:\n",
    "     events_data = json.loads(url.read())"
   ]
  },
  {
   "cell_type": "code",
   "execution_count": 4,
   "metadata": {},
   "outputs": [],
   "source": [
    "# rename columns\n",
    "\n",
    "df_events = pd.DataFrame(events_data).rename(columns=RENAME_COLUMNS)"
   ]
  },
  {
   "cell_type": "code",
   "execution_count": 5,
   "metadata": {},
   "outputs": [],
   "source": [
    "# drop na dates. cause issues with applymap funcitons \n",
    "\n",
    "df_events.dropna(axis=0,subset=['date'],inplace=True)"
   ]
  },
  {
   "cell_type": "code",
   "execution_count": 6,
   "metadata": {},
   "outputs": [],
   "source": [
    "def format_date(x):\n",
    "    try:\n",
    "        return datetime.datetime.strptime(x,'%m/%d/%Y %I:%M:%S %p')\n",
    "        #return date_fmt\n",
    "    except ValueError as e:\n",
    "        # the time element may be absent. try another format\n",
    "        try:\n",
    "            return datetime.datetime.strptime(x,'%m/%d/%Y')            \n",
    "        except:\n",
    "            return np.nan"
   ]
  },
  {
   "cell_type": "code",
   "execution_count": 7,
   "metadata": {},
   "outputs": [],
   "source": [
    "df_events['date'] = df_events[['date']].applymap(lambda x:format_date(x))"
   ]
  },
  {
   "cell_type": "markdown",
   "metadata": {},
   "source": [
    "### Step 2: Extract details of relavent event. Get url and Download Document"
   ]
  },
  {
   "cell_type": "code",
   "execution_count": 138,
   "metadata": {},
   "outputs": [],
   "source": [
    "# Extract the relevant event link\n",
    "\n",
    "event_link = df_events[df_events['date']==pd.Timestamp(target_event)]['link']\n",
    "#contructed event url\n",
    "event_url = FED_BASE_URL + event_link.values[0]"
   ]
  },
  {
   "cell_type": "code",
   "execution_count": 143,
   "metadata": {},
   "outputs": [],
   "source": [
    "# open the url. scrap through beautiful soup to get url\n",
    "event_page = urlopen(event_url)\n",
    "bs_event_contents = BeautifulSoup(event_page,'html.parser')"
   ]
  },
  {
   "cell_type": "code",
   "execution_count": 151,
   "metadata": {},
   "outputs": [],
   "source": [
    "minutes_link = bs_event_contents.find('a', href=re.compile('^/monetarypolicy/fomcminutes\\d{8}.htm'))"
   ]
  },
  {
   "cell_type": "code",
   "execution_count": 183,
   "metadata": {},
   "outputs": [],
   "source": [
    "minutes_url = FED_BASE_URL + minutes_link.attrs['href']"
   ]
  },
  {
   "cell_type": "code",
   "execution_count": 186,
   "metadata": {
    "collapsed": true
   },
   "outputs": [],
   "source": [
    "#extract meeting date from link\n",
    "re_date_url = re.compile(r'(\\d{8}).htm[l]?')\n",
    "mt_dt = re.search(re_date_url,minutes_url)\n",
    "if mt_dt:\n",
    "    datestr = mt_dt.group(1)\n",
    "    meeting_date = datetime.datetime.strptime(datestr,'%Y%m%d')    \n",
    "else:\n",
    "    meeting_date = datetime.datetime.now()  "
   ]
  },
  {
   "cell_type": "markdown",
   "metadata": {},
   "source": [
    "### Step 3: Download the Data to Google Drive"
   ]
  },
  {
   "cell_type": "code",
   "execution_count": 14,
   "metadata": {
    "collapsed": true
   },
   "outputs": [],
   "source": [
    "\n",
    "\n",
    "# GCS Api setup\n",
    "#set environment variables\n",
    "os.environ['GOOGLE_APPLICATION_CREDENTIALS'] = r'C:\\Users\\ashay\\Documents\\Projects\\GCP - FedStatements\\AuthenticationJSON\\fedminutesanalysis-4141ba8145c7.json'\n",
    "GCP_BUCKET = 'khandeas-fedminutesanalysis'\n",
    "\n",
    "#initialize google cloud storage client\n",
    "client = Client()\n",
    "bucket = client.get_bucket(GCP_BUCKET)"
   ]
  },
  {
   "cell_type": "code",
   "execution_count": 196,
   "metadata": {
    "collapsed": true
   },
   "outputs": [],
   "source": [
    "def download_minutes(minutes_url, meeting_dt):\n",
    "\n",
    "    minuteslink = urlopen(minutes_url)            \n",
    "    fname = \"{}{}{}.html\".format(meeting_dt.year,meeting_dt.month,meeting_dt.day)\n",
    "    gcs_filename = 'raw/minutes/' + str(meeting_dt.year) + '/' +  fname\n",
    "    blob = bucket.blob(gcs_filename)\n",
    "    blob.upload_from_string(minuteslink.read())"
   ]
  },
  {
   "cell_type": "code",
   "execution_count": null,
   "metadata": {
    "collapsed": true
   },
   "outputs": [],
   "source": [
    "blob.upload_from_string()"
   ]
  },
  {
   "cell_type": "code",
   "execution_count": 197,
   "metadata": {},
   "outputs": [],
   "source": [
    "download_minutes(minutes_url, meeting_date)"
   ]
  }
 ],
 "metadata": {
  "kernelspec": {
   "display_name": "Python 3",
   "language": "python",
   "name": "python3"
  },
  "language_info": {
   "codemirror_mode": {
    "name": "ipython",
    "version": 3
   },
   "file_extension": ".py",
   "mimetype": "text/x-python",
   "name": "python",
   "nbconvert_exporter": "python",
   "pygments_lexer": "ipython3",
   "version": "3.6.3"
  }
 },
 "nbformat": 4,
 "nbformat_minor": 2
}
